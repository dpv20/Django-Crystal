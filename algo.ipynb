{
 "cells": [
  {
   "cell_type": "code",
   "execution_count": 5,
   "metadata": {},
   "outputs": [],
   "source": [
    "import os \n",
    "import matplotlib.pyplot as plt\n",
    "import numpy as np\n",
    "from django.conf import settings\n",
    "\n",
    "def generate_bar_graph(last_instances):\n",
    "    column_names = [\n",
    "        \"PER\", \"BC\", \"MC\", \"FIL\", \"DOS\", \"REC\",\n",
    "        \"TEL\", \"SKI\", \"ULT\", \"INF\", \"LIN\", \"VISUAL\",\n",
    "        \"WATER\", \"LEVEL\", \"ENVIR\"\n",
    "    ]\n",
    "    weights = {\n",
    "        \"PER\": 0.05, \"BC\": 0.1, \"MC\": 0.1, \"FIL\": 0.1, \"DOS\": 0.07, \"REC\": 0.07,\n",
    "        \"TEL\": 0.1, \"SKI\": 0.04, \"ULT\": 0.04, \"INF\": 0.03, \"LIN\": 0.08,\n",
    "        \"VISUAL\": 0.14, \"WATER\": 0.02, \"WATER LEVEL\": 0.04, \"ENVIRONMENTAL\": 0.02\n",
    "    }\n",
    "\n",
    "    # Corrected: \"WATER LEVEL\" and \"ENVIRONMENTAL\" in weights to match \"LEVEL\" and \"ENVIR\" in column_names\n",
    "    weights['LEVEL'] = weights.pop('WATER LEVEL')\n",
    "    weights['ENVIR'] = weights.pop('ENVIRONMENTAL')\n",
    "\n",
    "    # Assuming 'last_instances' is a dictionary with keys as column names and values as dictionaries containing 'nota'\n",
    "    values = [last_instances.get(name, {}).get('nota', 0) for name in column_names]\n",
    "    final_value = sum(values[i] * weight for i, (model, weight) in enumerate(weights.items()))\n",
    "\n",
    "    fig, ax = plt.subplots()\n",
    "    bar_width = 0.8  # Define the bar width for consistent use in plotting\n",
    "    positions = np.arange(len(column_names))  # Original bar positions\n",
    "    gap = 1  # Define a gap before the final column. Adjust this value to increase or decrease the gap.\n",
    "    final_position = positions[-1] + gap + 1  # Calculate the position for the \"FINAL\" column, adding a gap\n",
    "\n",
    "    # Plot all initial bars\n",
    "    ax.bar(positions, values, width=bar_width, label='Models', color='skyblue')\n",
    "\n",
    "    # Plot the final value separately with its own position\n",
    "    ax.bar(final_position, final_value, width=bar_width * 2, label='FINAL', color='skyblue')\n",
    "\n",
    "    # Update x-ticks to include the final position\n",
    "    all_positions = np.append(positions, final_position)\n",
    "    ax.set_xticks(all_positions)\n",
    "    ax.set_xticklabels(column_names + [\"FINAL\"], rotation=45, ha='right')\n",
    "    ax.set_xlabel('Model')\n",
    "    ax.set_ylabel('Rating')\n",
    "    ax.set_ylim(0, max(values + [final_value]) * 1.1)  # Adjust the y-limit\n",
    "    plt.tight_layout()\n",
    "    plt.show()"
   ]
  },
  {
   "cell_type": "code",
   "execution_count": 4,
   "metadata": {},
   "outputs": [
    {
     "name": "stdout",
     "output_type": "stream",
     "text": [
      "15\n"
     ]
    }
   ],
   "source": [
    "sample = [1,3,5,4,5,5,5,5,5,5,4,5,4,5,3]\n"
   ]
  },
  {
   "cell_type": "code",
   "execution_count": null,
   "metadata": {},
   "outputs": [],
   "source": []
  }
 ],
 "metadata": {
  "kernelspec": {
   "display_name": "Python 3",
   "language": "python",
   "name": "python3"
  },
  "language_info": {
   "codemirror_mode": {
    "name": "ipython",
    "version": 3
   },
   "file_extension": ".py",
   "mimetype": "text/x-python",
   "name": "python",
   "nbconvert_exporter": "python",
   "pygments_lexer": "ipython3",
   "version": "3.10.6"
  }
 },
 "nbformat": 4,
 "nbformat_minor": 2
}
